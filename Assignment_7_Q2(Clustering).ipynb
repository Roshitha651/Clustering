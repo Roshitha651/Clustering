{
  "nbformat": 4,
  "nbformat_minor": 0,
  "metadata": {
    "colab": {
      "name": "Assignment_7_Q2(Clustering).ipynb",
      "provenance": []
    },
    "kernelspec": {
      "name": "python3",
      "display_name": "Python 3"
    },
    "language_info": {
      "name": "python"
    }
  },
  "cells": [
    {
      "cell_type": "code",
      "source": [
        "import pandas as pd\n",
        "import numpy as np\n",
        "import matplotlib.pyplot as plt\n",
        "from sklearn.cluster import DBSCAN\n",
        "from sklearn.preprocessing import StandardScaler"
      ],
      "metadata": {
        "id": "J86swTTnvcew"
      },
      "execution_count": null,
      "outputs": []
    },
    {
      "cell_type": "code",
      "source": [
        "crime=pd.read_csv('/content/crime_data.csv')\n",
        "crime\n"
      ],
      "metadata": {
        "id": "w9cw3hZfwpiy"
      },
      "execution_count": null,
      "outputs": []
    },
    {
      "cell_type": "code",
      "source": [
        "crime.info()"
      ],
      "metadata": {
        "id": "RBUA1H52wt2b"
      },
      "execution_count": null,
      "outputs": []
    },
    {
      "cell_type": "code",
      "source": [
        "crime.drop(['Unnamed: 0'],axis=1,inplace=True)\n",
        "crime"
      ],
      "metadata": {
        "id": "WPHnSnOiw9tv"
      },
      "execution_count": null,
      "outputs": []
    },
    {
      "cell_type": "code",
      "source": [
        "crime_norm=StandardScaler().fit_transform(crime)\n",
        "crime_norm"
      ],
      "metadata": {
        "id": "vqupjNbKxBdv"
      },
      "execution_count": null,
      "outputs": []
    },
    {
      "cell_type": "code",
      "source": [
        "dbscan=DBSCAN(eps=1,min_samples=4)\n",
        "dbscan.fit(crime_norm)"
      ],
      "metadata": {
        "id": "5xKDJjEgxEDA"
      },
      "execution_count": null,
      "outputs": []
    },
    {
      "cell_type": "code",
      "source": [
        "dbscan.labels_"
      ],
      "metadata": {
        "id": "lI0yUUTKxHLg"
      },
      "execution_count": null,
      "outputs": []
    },
    {
      "cell_type": "code",
      "source": [
        "crime['clusters']=dbscan.labels_\n",
        "crime"
      ],
      "metadata": {
        "id": "yfYW3PdmxJ7Z"
      },
      "execution_count": null,
      "outputs": []
    },
    {
      "cell_type": "code",
      "source": [
        "crime.groupby('clusters').agg(['mean']).reset_index()"
      ],
      "metadata": {
        "id": "FHwT0JI1xMy1"
      },
      "execution_count": null,
      "outputs": []
    },
    {
      "cell_type": "code",
      "source": [
        "plt.figure(figsize=(10, 7))  \n",
        "plt.scatter(crime['clusters'],crime['UrbanPop'], c=dbscan.labels_)"
      ],
      "metadata": {
        "id": "k-pDdT8zxQAz"
      },
      "execution_count": null,
      "outputs": []
    },
    {
      "cell_type": "code",
      "source": [
        ""
      ],
      "metadata": {
        "id": "zKU_gxUtxSxh"
      },
      "execution_count": null,
      "outputs": []
    }
  ]
}